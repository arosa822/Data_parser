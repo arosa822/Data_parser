{
 "cells": [
  {
   "cell_type": "code",
   "execution_count": null,
   "metadata": {},
   "outputs": [],
   "source": [
    "import glob\n",
    "from io import StringIO\n",
    "import os\n",
    "import pandas as pd\n",
    "import io"
   ]
  },
  {
   "cell_type": "code",
   "execution_count": null,
   "metadata": {},
   "outputs": [],
   "source": [
    "#parse by spaces -we do not need all the extra data\n",
    "test = open('AIC001-000','r').read()\n",
    "parsed = test.split('\\n')\n",
    "test = parsed[0:16]\n",
    "\n",
    "test"
   ]
  },
  {
   "cell_type": "code",
   "execution_count": null,
   "metadata": {
    "scrolled": true
   },
   "outputs": [],
   "source": [
    "##test for single case first then run loop -- this Example works! \n",
    "\n",
    "#grab the data\n",
    "path = 'AIC001-000'\n",
    "\n",
    "#method 1\n",
    "raw = open(path,'r').read()\n",
    "\n",
    "# split the data \n",
    "data = pd.read_fwf(io.StringIO(raw), header=None)\n",
    "\n",
    "#additional methods explored\n",
    "#df = pd.DataFrame([[row[:17].strip(), row[17:].strip()] for row in original.splitlines()])\n",
    "#data = pd.DataFrame([row[17:].strip() for row in original.splitlines()])\n",
    "\n",
    "data = data.iloc[[5,6,7,10,13,14],[1]].values.T.tolist()\n",
    "\n",
    "#data.insert(0,path)\n",
    "data\n",
    "\n",
    "#method for getting list into dataframe\n",
    "\n",
    "df = pd.DataFrame(data,columns = [ \"Station_code\", \"Station_lat\", \"Station_long\", \"Sample_Freq(Hz)\", \"Scale_factor\", \"Max_Acc(gal)\"] )\n",
    "\n",
    "df.insert(0,\"File\",path)\n",
    "\n",
    "df"
   ]
  },
  {
   "cell_type": "code",
   "execution_count": null,
   "metadata": {},
   "outputs": [],
   "source": [
    "## run loop to iterate through the files  -- does not work yet\n",
    "\n",
    "i=0\n",
    "for path in glob.glob(os.path.join('./K-Net', '*')):\n",
    "    #grab the data\n",
    "    \n",
    "\n",
    "    #method \n",
    "    raw = open(path,'r').read()\n",
    "\n",
    "    data = pd.read_fwf(io.StringIO(raw), header=None)\n",
    "    #df = pd.DataFrame([[row[:17].strip(), row[17:].strip()] for row in original.splitlines()])\n",
    "    #data = pd.DataFrame([row[17:].strip() for row in original.splitlines()])\n",
    "\n",
    "    data = data.iloc[[5,6,7,10,13,14],[1]].values.T.tolist()\n",
    "\n",
    "    #data.insert(0,path)\n",
    "    data\n",
    "\n",
    "    #method for getting list into dataframe\n",
    "\n",
    "    df = pd.DataFrame(data,columns = [ \"Station_code\", \"Station_lat\", \"Station_long\", \"Sample_Freq(Hz)\", \"Scale_factor\", \"Max_Acc(gal)\"] )\n",
    "\n",
    "    df.insert(0,\"File\",path)\n",
    "    \n",
    "\n",
    "    "
   ]
  },
  {
   "cell_type": "code",
   "execution_count": null,
   "metadata": {
    "scrolled": false
   },
   "outputs": [],
   "source": [
    "#create list containing all the file names may be useful for final loop\n",
    "path = './K-Net/'\n",
    "filenames = glob.glob(path+'*')\n"
   ]
  },
  {
   "cell_type": "code",
   "execution_count": null,
   "metadata": {},
   "outputs": [],
   "source": [
    "'''\n",
    "These are the file headers we are looking for\n",
    "File name\n",
    "From header:\n",
    "Station code\n",
    "Station Lat.\n",
    "Station Long.\n",
    "Sampling Freq (Hz)\n",
    "Scale factor\n",
    "Max Acc. (gal) '''\n",
    "\n",
    "\n",
    "\n"
   ]
  },
  {
   "cell_type": "code",
   "execution_count": null,
   "metadata": {},
   "outputs": [],
   "source": []
  }
 ],
 "metadata": {
  "kernelspec": {
   "display_name": "Python 3",
   "language": "python",
   "name": "python3"
  },
  "language_info": {
   "codemirror_mode": {
    "name": "ipython",
    "version": 3
   },
   "file_extension": ".py",
   "mimetype": "text/x-python",
   "name": "python",
   "nbconvert_exporter": "python",
   "pygments_lexer": "ipython3",
   "version": "3.6.5"
  }
 },
 "nbformat": 4,
 "nbformat_minor": 2
}
