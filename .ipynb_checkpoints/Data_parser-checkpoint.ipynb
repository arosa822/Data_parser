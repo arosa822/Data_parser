{
 "cells": [
  {
   "cell_type": "code",
   "execution_count": null,
   "metadata": {},
   "outputs": [],
   "source": [
    "import glob\n",
    "from io import StringIO\n",
    "import os\n",
    "import pandas as pd\n",
    "import io\n",
    "import numpy as np\n",
    "import time\n"
   ]
  },
  {
   "cell_type": "code",
   "execution_count": null,
   "metadata": {},
   "outputs": [],
   "source": [
    "#parse by spaces -we do not need all the extra data\n",
    "test = open('AIC001-000','r').read()\n",
    "parsed = test.split('\\n')\n",
    "test = parsed[0:16]\n",
    "\n",
    "test"
   ]
  },
  {
   "cell_type": "code",
   "execution_count": null,
   "metadata": {
    "scrolled": true
   },
   "outputs": [],
   "source": [
    "## refactored the single test to prep for loop\n",
    "##test for single case first then run loop -- this Example works! \n",
    "\n",
    "#grab the data\n",
    "path = 'AIC001-000'\n",
    "\n",
    "#get the raw data\n",
    "raw = open(path,'r').read()\n",
    "\n",
    "# split the data \n",
    "data = pd.read_fwf(io.StringIO(raw), header=None)\n",
    "\n",
    "#convert the dataframe to a list and add in the file name to the end of it\n",
    "data = data.iloc[[5,6,7,10,13,14],[1]].append({1: path},ignore_index=True)\n",
    "data = data.values.T.tolist()\n",
    "\n",
    "#method for getting list into dataframe\n",
    "\n",
    "df = pd.DataFrame(data,columns = [ \"Station_code\", \"Station_lat\", \"Station_long\", \"Sample_Freq(Hz)\", \"Scale_factor\", \"Max_Acc(gal)\",\"File_name\"] )\n",
    "\n",
    "df"
   ]
  },
  {
   "cell_type": "code",
   "execution_count": null,
   "metadata": {
    "scrolled": true
   },
   "outputs": [],
   "source": [
    "#iterate all the files within the folder -- this one works too\n",
    "#start timer\n",
    "start = time.time()\n",
    "\n",
    "i=0\n",
    "data = []\n",
    "\n",
    "for path in glob.glob(os.path.join('./K-Net', '*')):\n",
    "\n",
    "    #keep track of files\n",
    "    i=i+1\n",
    "    #get the string values\n",
    "    raw = open(path,'r').read()\n",
    "    #split the data \n",
    "    temp = pd.read_fwf(io.StringIO(raw), header=None)\n",
    "    #select the bits of data that we want to select, discard the rest\n",
    "    temp = temp.iloc[[5,6,7,10,13,14],[1]].append({1: path},ignore_index=True)\n",
    "    \n",
    "    #convert back to list and append the data created prior to the loop\n",
    "    data.extend(temp.values.T.tolist())\n",
    "    \n",
    "\n",
    "    \n",
    "#After loop has finished    \n",
    "df = pd.DataFrame(data,columns = [ \"Station_code\", \"Station_lat\", \"Station_long\", \"Sample_Freq(Hz)\", \"Scale_factor\", \"Max_Acc(gal)\",\"File_name\"])\n",
    "df = df.set_index('File_name')\n",
    "#stop Timer\n",
    "end = time.time()\n",
    "\n",
    "print (\"Number of files parsed: \",i)\n",
    "print(\"Time it took to parse: \",end - start )\n",
    "df\n"
   ]
  }
 ],
 "metadata": {
  "kernelspec": {
   "display_name": "Python 3",
   "language": "python",
   "name": "python3"
  },
  "language_info": {
   "codemirror_mode": {
    "name": "ipython",
    "version": 3
   },
   "file_extension": ".py",
   "mimetype": "text/x-python",
   "name": "python",
   "nbconvert_exporter": "python",
   "pygments_lexer": "ipython3",
   "version": "3.6.5"
  }
 },
 "nbformat": 4,
 "nbformat_minor": 2
}
