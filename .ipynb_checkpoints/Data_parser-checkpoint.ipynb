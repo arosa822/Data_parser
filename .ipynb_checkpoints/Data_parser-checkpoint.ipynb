{
 "cells": [
  {
   "cell_type": "code",
   "execution_count": 120,
   "metadata": {},
   "outputs": [],
   "source": [
    "import glob\n",
    "from io import StringIO\n",
    "import os\n",
    "import pandas as pd\n",
    "import io"
   ]
  },
  {
   "cell_type": "code",
   "execution_count": 121,
   "metadata": {},
   "outputs": [
    {
     "name": "stdout",
     "output_type": "stream",
     "text": [
      "AIC001-000  Data_parser.ipynb  \u001b[0m\u001b[01;34mK-Net\u001b[0m/  \u001b[01;31mK-Net.zip\u001b[0m\r\n"
     ]
    }
   ],
   "source": [
    "ls"
   ]
  },
  {
   "cell_type": "code",
   "execution_count": 122,
   "metadata": {},
   "outputs": [
    {
     "data": {
      "text/plain": [
       "['Origin Time       2016/04/16 01:25:00',\n",
       " 'Lat.              32.753',\n",
       " 'Long.             130.762',\n",
       " 'Depth. (km)       12',\n",
       " 'Mag.              7.3',\n",
       " 'Station Code      AIC001',\n",
       " 'Station Lat.      35.2976',\n",
       " 'Station Long.     136.7500',\n",
       " 'Station Height(m) 6',\n",
       " 'Record Time       2016/04/16 01:28:06',\n",
       " 'Sampling Freq(Hz) 100Hz',\n",
       " 'Duration Time(s)  120',\n",
       " 'Dir.              N-S',\n",
       " 'Scale Factor      7845(gal)/8223790',\n",
       " 'Max. Acc. (gal)   2.327',\n",
       " 'Last Correction   2016/04/16 01:28:08']"
      ]
     },
     "execution_count": 122,
     "metadata": {},
     "output_type": "execute_result"
    }
   ],
   "source": [
    "#parse by spaces\n",
    "test = open('AIC001-000','r').read()\n",
    "parsed = test.split('\\n')\n",
    "test = parsed[0:16]\n",
    "\n",
    "test"
   ]
  },
  {
   "cell_type": "code",
   "execution_count": 113,
   "metadata": {
    "scrolled": true
   },
   "outputs": [
    {
     "data": {
      "text/html": [
       "<div>\n",
       "<style scoped>\n",
       "    .dataframe tbody tr th:only-of-type {\n",
       "        vertical-align: middle;\n",
       "    }\n",
       "\n",
       "    .dataframe tbody tr th {\n",
       "        vertical-align: top;\n",
       "    }\n",
       "\n",
       "    .dataframe thead th {\n",
       "        text-align: right;\n",
       "    }\n",
       "</style>\n",
       "<table border=\"1\" class=\"dataframe\">\n",
       "  <thead>\n",
       "    <tr style=\"text-align: right;\">\n",
       "      <th></th>\n",
       "      <th>File</th>\n",
       "      <th>Station_code</th>\n",
       "      <th>Station_lat</th>\n",
       "      <th>Station_long</th>\n",
       "      <th>Sample_Freq(Hz)</th>\n",
       "      <th>Scale_factor</th>\n",
       "      <th>Max_Acc(gal)</th>\n",
       "    </tr>\n",
       "  </thead>\n",
       "  <tbody>\n",
       "    <tr>\n",
       "      <th>0</th>\n",
       "      <td>AIC001-000</td>\n",
       "      <td>AIC001</td>\n",
       "      <td>35.2976</td>\n",
       "      <td>136.7500</td>\n",
       "      <td>100Hz</td>\n",
       "      <td>7845(gal)/8223790</td>\n",
       "      <td>2.327</td>\n",
       "    </tr>\n",
       "  </tbody>\n",
       "</table>\n",
       "</div>"
      ],
      "text/plain": [
       "         File Station_code Station_lat Station_long Sample_Freq(Hz)  \\\n",
       "0  AIC001-000       AIC001     35.2976     136.7500           100Hz   \n",
       "\n",
       "        Scale_factor Max_Acc(gal)  \n",
       "0  7845(gal)/8223790        2.327  "
      ]
     },
     "execution_count": 113,
     "metadata": {},
     "output_type": "execute_result"
    }
   ],
   "source": [
    "##test for single case first then run loop -- Example that works\n",
    "\n",
    "#grab the data\n",
    "path = 'AIC001-000'\n",
    "\n",
    "#method 1\n",
    "raw = open(path,'r').read()\n",
    "\n",
    "# split the data \n",
    "data = pd.read_fwf(io.StringIO(raw), header=None)\n",
    "#df = pd.DataFrame([[row[:17].strip(), row[17:].strip()] for row in original.splitlines()])\n",
    "#data = pd.DataFrame([row[17:].strip() for row in original.splitlines()])\n",
    "\n",
    "data = data.iloc[[5,6,7,10,13,14],[1]].values.T.tolist()\n",
    "\n",
    "#data.insert(0,path)\n",
    "data\n",
    "\n",
    "#method for getting list into dataframe\n",
    "\n",
    "df = pd.DataFrame(data,columns = [ \"Station_code\", \"Station_lat\", \"Station_long\", \"Sample_Freq(Hz)\", \"Scale_factor\", \"Max_Acc(gal)\"] )\n",
    "\n",
    "df.insert(0,\"File\",path)\n",
    "\n",
    "df"
   ]
  },
  {
   "cell_type": "code",
   "execution_count": 118,
   "metadata": {},
   "outputs": [
    {
     "data": {
      "text/plain": [
       "0"
      ]
     },
     "execution_count": 118,
     "metadata": {},
     "output_type": "execute_result"
    }
   ],
   "source": [
    "## run loop to iterate through the files  -- does not work yet\n",
    "\n",
    "i=0\n",
    "for path in glob.glob(os.path.join('./K-Net', '*')):\n",
    "    #grab the data\n",
    "    \n",
    "\n",
    "    #method \n",
    "    raw = open(path,'r').read()\n",
    "\n",
    "    data = pd.read_fwf(io.StringIO(raw), header=None)\n",
    "    #df = pd.DataFrame([[row[:17].strip(), row[17:].strip()] for row in original.splitlines()])\n",
    "    #data = pd.DataFrame([row[17:].strip() for row in original.splitlines()])\n",
    "\n",
    "    data = data.iloc[[5,6,7,10,13,14],[1]].values.T.tolist()\n",
    "\n",
    "    #data.insert(0,path)\n",
    "    data\n",
    "\n",
    "    #method for getting list into dataframe\n",
    "\n",
    "    df = pd.DataFrame(data,columns = [ \"Station_code\", \"Station_lat\", \"Station_long\", \"Sample_Freq(Hz)\", \"Scale_factor\", \"Max_Acc(gal)\"] )\n",
    "\n",
    "    df.insert(0,\"File\",path)\n",
    "    \n",
    "i\n",
    "    "
   ]
  },
  {
   "cell_type": "code",
   "execution_count": 119,
   "metadata": {},
   "outputs": [
    {
     "data": {
      "text/html": [
       "<div>\n",
       "<style scoped>\n",
       "    .dataframe tbody tr th:only-of-type {\n",
       "        vertical-align: middle;\n",
       "    }\n",
       "\n",
       "    .dataframe tbody tr th {\n",
       "        vertical-align: top;\n",
       "    }\n",
       "\n",
       "    .dataframe thead th {\n",
       "        text-align: right;\n",
       "    }\n",
       "</style>\n",
       "<table border=\"1\" class=\"dataframe\">\n",
       "  <thead>\n",
       "    <tr style=\"text-align: right;\">\n",
       "      <th></th>\n",
       "      <th>File</th>\n",
       "      <th>Station_code</th>\n",
       "      <th>Station_lat</th>\n",
       "      <th>Station_long</th>\n",
       "      <th>Sample_Freq(Hz)</th>\n",
       "      <th>Scale_factor</th>\n",
       "      <th>Max_Acc(gal)</th>\n",
       "    </tr>\n",
       "  </thead>\n",
       "  <tbody>\n",
       "    <tr>\n",
       "      <th>0</th>\n",
       "      <td>./K-Net/CHB029-090</td>\n",
       "      <td>CHB029</td>\n",
       "      <td>35.6947</td>\n",
       "      <td>139.9176</td>\n",
       "      <td>100Hz</td>\n",
       "      <td>7845(gal)/8223790</td>\n",
       "      <td>1.286</td>\n",
       "    </tr>\n",
       "  </tbody>\n",
       "</table>\n",
       "</div>"
      ],
      "text/plain": [
       "                 File Station_code Station_lat Station_long Sample_Freq(Hz)  \\\n",
       "0  ./K-Net/CHB029-090       CHB029     35.6947     139.9176           100Hz   \n",
       "\n",
       "        Scale_factor Max_Acc(gal)  \n",
       "0  7845(gal)/8223790        1.286  "
      ]
     },
     "execution_count": 119,
     "metadata": {},
     "output_type": "execute_result"
    }
   ],
   "source": [
    "df"
   ]
  },
  {
   "cell_type": "code",
   "execution_count": 56,
   "metadata": {},
   "outputs": [
    {
     "data": {
      "text/html": [
       "<div>\n",
       "<style scoped>\n",
       "    .dataframe tbody tr th:only-of-type {\n",
       "        vertical-align: middle;\n",
       "    }\n",
       "\n",
       "    .dataframe tbody tr th {\n",
       "        vertical-align: top;\n",
       "    }\n",
       "\n",
       "    .dataframe thead th {\n",
       "        text-align: right;\n",
       "    }\n",
       "</style>\n",
       "<table border=\"1\" class=\"dataframe\">\n",
       "  <thead>\n",
       "    <tr style=\"text-align: right;\">\n",
       "      <th></th>\n",
       "      <th>File_name</th>\n",
       "      <th>Station_code</th>\n",
       "      <th>Station_lat</th>\n",
       "      <th>Station_long</th>\n",
       "      <th>Sample_Freq(Hz)</th>\n",
       "      <th>Scale_factor</th>\n",
       "      <th>Max_Acc(gal)</th>\n",
       "    </tr>\n",
       "  </thead>\n",
       "  <tbody>\n",
       "  </tbody>\n",
       "</table>\n",
       "</div>"
      ],
      "text/plain": [
       "Empty DataFrame\n",
       "Columns: [File_name, Station_code, Station_lat, Station_long, Sample_Freq(Hz), Scale_factor, Max_Acc(gal)]\n",
       "Index: []"
      ]
     },
     "execution_count": 56,
     "metadata": {},
     "output_type": "execute_result"
    }
   ],
   "source": [
    "# create the dataframe\n",
    "df = pd.DataFrame( columns = [\"File_name\", \"Station_code\", \"Station_lat\", \"Station_long\", \"Sample_Freq(Hz)\", \"Scale_factor\", \"Max_Acc(gal)\"])\n",
    "\n",
    "\n",
    "\n",
    "\n"
   ]
  },
  {
   "cell_type": "code",
   "execution_count": null,
   "metadata": {
    "scrolled": false
   },
   "outputs": [],
   "source": [
    "#create list containing all the file names\n",
    "path = './K-Net/'\n",
    "filenames = glob.glob(path+'*')\n"
   ]
  },
  {
   "cell_type": "code",
   "execution_count": 72,
   "metadata": {},
   "outputs": [
    {
     "data": {
      "text/html": [
       "<div>\n",
       "<style scoped>\n",
       "    .dataframe tbody tr th:only-of-type {\n",
       "        vertical-align: middle;\n",
       "    }\n",
       "\n",
       "    .dataframe tbody tr th {\n",
       "        vertical-align: top;\n",
       "    }\n",
       "\n",
       "    .dataframe thead th {\n",
       "        text-align: right;\n",
       "    }\n",
       "</style>\n",
       "<table border=\"1\" class=\"dataframe\">\n",
       "  <thead>\n",
       "    <tr style=\"text-align: right;\">\n",
       "      <th></th>\n",
       "      <th>Station_code</th>\n",
       "      <th>Station_lat</th>\n",
       "      <th>Station_long</th>\n",
       "      <th>Sample_Freq(Hz)</th>\n",
       "      <th>Scale_factor</th>\n",
       "      <th>Max_Acc(gal)</th>\n",
       "    </tr>\n",
       "  </thead>\n",
       "  <tbody>\n",
       "    <tr>\n",
       "      <th>0</th>\n",
       "      <td>OKY012</td>\n",
       "      <td>34.5893</td>\n",
       "      <td>133.7545</td>\n",
       "      <td>100Hz</td>\n",
       "      <td>7845(gal)/8223790</td>\n",
       "      <td>5.534</td>\n",
       "    </tr>\n",
       "  </tbody>\n",
       "</table>\n",
       "</div>"
      ],
      "text/plain": [
       "  Station_code Station_lat Station_long Sample_Freq(Hz)       Scale_factor  \\\n",
       "0       OKY012     34.5893     133.7545           100Hz  7845(gal)/8223790   \n",
       "\n",
       "  Max_Acc(gal)  \n",
       "0        5.534  "
      ]
     },
     "execution_count": 72,
     "metadata": {},
     "output_type": "execute_result"
    }
   ],
   "source": [
    "\n",
    "#method for getting list into dataframe\n",
    "\n",
    "df = pd.DataFrame(data,columns = [ \"Station_code\", \"Station_lat\", \"Station_long\", \"Sample_Freq(Hz)\", \"Scale_factor\", \"Max_Acc(gal)\"] )\n",
    "\n",
    "df\n",
    "\n",
    "\n",
    "#methods for loop\n",
    "# append list through loop then add to dataframe\n",
    "#list=[['a','b']]\n",
    "#list.append(['e','f'])\n",
    "#df=pd.DataFrame(list,columns=['col1','col2'])\n"
   ]
  },
  {
   "cell_type": "code",
   "execution_count": null,
   "metadata": {},
   "outputs": [],
   "source": [
    "#test parsing single file -> pandas\n",
    "file = './AIC001-00'"
   ]
  },
  {
   "cell_type": "code",
   "execution_count": null,
   "metadata": {},
   "outputs": [],
   "source": [
    "# do this to run scan on entire contents of folder - not there yet\n",
    "for infile in glob.glob(os.path.join('./', '*')):\n",
    "    review_file = open(infile,'r').read()\n",
    "    a= review_file\n",
    "    print (review_file)"
   ]
  },
  {
   "cell_type": "code",
   "execution_count": null,
   "metadata": {},
   "outputs": [],
   "source": [
    "ls"
   ]
  },
  {
   "cell_type": "code",
   "execution_count": null,
   "metadata": {},
   "outputs": [],
   "source": [
    "#parse by spaces\n",
    "test = open('AIC001-000','r').read()\n",
    "#parsed = test.split('\\n')\n",
    "##parsed = test.split()\n",
    "parsed"
   ]
  },
  {
   "cell_type": "code",
   "execution_count": null,
   "metadata": {},
   "outputs": [],
   "source": [
    "parsed[0:16]"
   ]
  },
  {
   "cell_type": "code",
   "execution_count": null,
   "metadata": {},
   "outputs": [],
   "source": []
  },
  {
   "cell_type": "code",
   "execution_count": null,
   "metadata": {},
   "outputs": [],
   "source": [
    "parsed = test.split('\\n')"
   ]
  },
  {
   "cell_type": "code",
   "execution_count": null,
   "metadata": {},
   "outputs": [],
   "source": [
    "parsed[0:16]"
   ]
  },
  {
   "cell_type": "code",
   "execution_count": null,
   "metadata": {},
   "outputs": [],
   "source": [
    "'''File name\n",
    "From header:\n",
    "Station code\n",
    "Station Lat.\n",
    "Station Long.\n",
    "Sampling Freq (Hz)\n",
    "Scale factor\n",
    "Max Acc. (gal)'''\n",
    "\n",
    "\n"
   ]
  },
  {
   "cell_type": "code",
   "execution_count": null,
   "metadata": {},
   "outputs": [],
   "source": [
    "rDefault()"
   ]
  },
  {
   "cell_type": "code",
   "execution_count": null,
   "metadata": {},
   "outputs": [],
   "source": [
    "var lastName = parts.LastOrDefault();\n",
    "var firstName = string.Join(\" \",parts.Take(parts.Length-1));"
   ]
  }
 ],
 "metadata": {
  "kernelspec": {
   "display_name": "Python 3",
   "language": "python",
   "name": "python3"
  },
  "language_info": {
   "codemirror_mode": {
    "name": "ipython",
    "version": 3
   },
   "file_extension": ".py",
   "mimetype": "text/x-python",
   "name": "python",
   "nbconvert_exporter": "python",
   "pygments_lexer": "ipython3",
   "version": "3.6.5"
  }
 },
 "nbformat": 4,
 "nbformat_minor": 2
}
